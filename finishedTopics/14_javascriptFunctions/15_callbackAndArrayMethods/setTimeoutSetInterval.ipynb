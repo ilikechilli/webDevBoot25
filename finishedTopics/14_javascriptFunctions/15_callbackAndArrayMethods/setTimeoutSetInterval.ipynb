{
 "cells": [
  {
   "cell_type": "markdown",
   "metadata": {},
   "source": [
    "setTimeout\n",
    "There are many programming languages that allow you to delay (sleep, pause...) code which temporarily pause the code\n",
    "Javescript does not really support this sort of functionalinty but there are callback functions that address this somewhat"
   ]
  },
  {
   "cell_type": "code",
   "execution_count": 1,
   "metadata": {},
   "outputs": [
    {
     "data": {
      "text/plain": [
       "\u001b[33m1\u001b[39m"
      ]
     },
     "execution_count": 1,
     "metadata": {},
     "output_type": "execute_result"
    }
   ],
   "source": [
    "setTimeout(() => {\n",
    "  console.log(\"Hello!\")\n",
    "}, 5000)"
   ]
  },
  {
   "cell_type": "markdown",
   "metadata": {},
   "source": [
    "The code above does not actually stop the code. If other code is added after the setTimeout, it will be run immediately"
   ]
  },
  {
   "cell_type": "code",
   "execution_count": 5,
   "metadata": {},
   "outputs": [
    {
     "name": "stdout",
     "output_type": "stream",
     "text": [
      "Hello\n",
      "Goodbye\n"
     ]
    },
    {
     "name": "stdout",
     "output_type": "stream",
     "text": [
      "Are you still there\n"
     ]
    },
    {
     "ename": "",
     "evalue": "",
     "output_type": "error",
     "traceback": [
      "\u001b[1;31mThe Kernel crashed while executing code in the current cell or a previous cell. \n",
      "\u001b[1;31mPlease review the code in the cell(s) to identify a possible cause of the failure. \n",
      "\u001b[1;31mClick <a href='https://aka.ms/vscodeJupyterKernelCrash'>here</a> for more info. \n",
      "\u001b[1;31mView Jupyter <a href='command:jupyter.viewOutput'>log</a> for further details."
     ]
    }
   ],
   "source": [
    "//This will run first\n",
    "console.log(\"Hello\");\n",
    "//This will be delayed 3 seconds after \"Hello\"\n",
    "setTimeout(() => {\n",
    "  console.log(\"Are you still there\");\n",
    "}, 3000);\n",
    "//This will not wait for \"Are you still there\"\n",
    "console.log(\"Goodbye\");"
   ]
  },
  {
   "cell_type": "markdown",
   "metadata": {},
   "source": [
    "So as you can see the messages are not displayed in the order that we want to which is annoying.\n",
    "\n",
    "# setInterval\n",
    "SetInterval is another way of having code run between certain timestamps"
   ]
  },
  {
   "cell_type": "code",
   "execution_count": 4,
   "metadata": {},
   "outputs": [
    {
     "name": "stdout",
     "output_type": "stream",
     "text": [
      "7\n"
     ]
    },
    {
     "data": {
      "text/plain": [
       "\u001b[33m8\u001b[39m"
      ]
     },
     "execution_count": 4,
     "metadata": {},
     "output_type": "execute_result"
    }
   ],
   "source": [
    "const id = setInterval(() => {\n",
    "  console.log(Math.random())\n",
    "}, 2000);\n",
    "console.log(id);\n",
    "\n",
    "setTimeout(clearInterval(id), 10000);"
   ]
  },
  {
   "cell_type": "markdown",
   "metadata": {},
   "source": [
    "The code above can be confusing because the setInterval returns an ID when it is called. This ID can be passed to clearInterval to stop that particular interval."
   ]
  }
 ],
 "metadata": {
  "kernelspec": {
   "display_name": "Deno",
   "language": "typescript",
   "name": "deno"
  },
  "language_info": {
   "codemirror_mode": "typescript",
   "file_extension": ".ts",
   "mimetype": "text/x.typescript",
   "name": "typescript",
   "nbconvert_exporter": "script",
   "pygments_lexer": "typescript",
   "version": "5.6.2"
  }
 },
 "nbformat": 4,
 "nbformat_minor": 2
}
