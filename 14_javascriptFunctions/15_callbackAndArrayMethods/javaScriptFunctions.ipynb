{
 "cells": [
  {
   "cell_type": "markdown",
   "metadata": {},
   "source": [
    "# javaScriptFunctions"
   ]
  },
  {
   "cell_type": "markdown",
   "metadata": {},
   "source": [
    "A function allows the creation of a code block that can be easily reused. The basic syntax for a function is:"
   ]
  },
  {
   "cell_type": "code",
   "execution_count": 11,
   "metadata": {},
   "outputs": [],
   "source": [
    "function myFirstFunction() {\n",
    "  console.log(\"Hello!\");\n",
    "}"
   ]
  },
  {
   "cell_type": "markdown",
   "metadata": {},
   "source": [
    "This function does not do a whole lot. In fact, it doesn't do anything just yet because we haven't \"called\" the function just yet! Calling a function is as simple as typing the name of the function and adding parentheses to the end like this:"
   ]
  },
  {
   "cell_type": "code",
   "execution_count": 12,
   "metadata": {},
   "outputs": [
    {
     "name": "stdout",
     "output_type": "stream",
     "text": [
      "Hello!\n"
     ]
    }
   ],
   "source": [
    "myFirstFunction();"
   ]
  },
  {
   "cell_type": "markdown",
   "metadata": {},
   "source": [
    "See that? when called, the function executes and this particular function simply writes something to the \"console\". Now in this notebook, the output is seen after the line of code so there is no need to open up the console. Pretty neat huh!"
   ]
  },
  {
   "cell_type": "markdown",
   "metadata": {},
   "source": [
    "functions can also take arguments withing the parentheses when calling them. Let's create a new function but this time one that can take arguments for input:"
   ]
  },
  {
   "cell_type": "code",
   "execution_count": 13,
   "metadata": {},
   "outputs": [
    {
     "data": {
      "text/plain": [
       "\u001b[32m\"You passed an argument when calling this function\"\u001b[39m"
      ]
     },
     "execution_count": 13,
     "metadata": {},
     "output_type": "execute_result"
    }
   ],
   "source": [
    "function mySecondFunction(x){\n",
    "  return `You passed ${x} when calling this function`\n",
    "}\n",
    "//call the function\n",
    "mySecondFunction(\"an argument\");"
   ]
  },
  {
   "cell_type": "markdown",
   "metadata": {},
   "source": [
    "There are two things to note with the code above. The first thing is that we define a parameter called an argument that can be passed to the function between the parenthese. This parameter is then accessible inside the function to so stuff with. In this case, we're using it in a string literal. \n",
    "\n",
    "The second thing to notice is that we've used the return keyword. This is different from the \"console.log\" that we've been using as output up until now. The return keyword returns whatever expression follow. That means that the output of the function can now be used somewhere else. It can be stored in a varialble, like this:"
   ]
  },
  {
   "cell_type": "code",
   "execution_count": 14,
   "metadata": {},
   "outputs": [
    {
     "name": "stdout",
     "output_type": "stream",
     "text": [
      "You passed something when calling this function\n"
     ]
    }
   ],
   "source": [
    "let var1 = mySecondFunction(\"something\");\n",
    "console.log(var1);"
   ]
  },
  {
   "cell_type": "markdown",
   "metadata": {},
   "source": [
    "Pretty useful, right?"
   ]
  }
 ],
 "metadata": {
  "kernelspec": {
   "display_name": "Deno",
   "language": "typescript",
   "name": "deno"
  },
  "language_info": {
   "codemirror_mode": "typescript",
   "file_extension": ".ts",
   "mimetype": "text/x.typescript",
   "name": "typescript",
   "nbconvert_exporter": "script",
   "pygments_lexer": "typescript",
   "version": "5.6.2"
  }
 },
 "nbformat": 4,
 "nbformat_minor": 2
}
